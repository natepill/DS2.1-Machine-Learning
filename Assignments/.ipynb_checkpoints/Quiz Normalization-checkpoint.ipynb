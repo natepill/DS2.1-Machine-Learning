{
 "cells": [
  {
   "cell_type": "code",
   "execution_count": 1,
   "metadata": {},
   "outputs": [],
   "source": [
    "\n",
    "''' \n",
    "- Subtract the minimum element of each column from all the elements of that column\n",
    "\n",
    "- Then devide the result to the range of value for each column\n",
    "\n",
    "'''\n",
    "\n",
    "def normalize_data(matrix):\n",
    "    \n",
    "    columns = [[]]\n",
    "    for index, arr in enumerate(matrix):\n",
    "        columns.append([])\n",
    "        for value in arr:\n",
    "            arr.insert(value, index)\n",
    "            \n",
    "    \n",
    "    print(columns)\n",
    "    \n",
    "    for arr in columns:\n",
    "        for val in arr:\n",
    "            val -= min(arr)\n",
    "            \n",
    "            \n",
    "        \n",
    "#  TODO: Then devide the result to the range of value for each column"
   ]
  },
  {
   "cell_type": "code",
   "execution_count": null,
   "metadata": {},
   "outputs": [],
   "source": []
  }
 ],
 "metadata": {
  "kernelspec": {
   "display_name": "Python 3",
   "language": "python",
   "name": "python3"
  },
  "language_info": {
   "codemirror_mode": {
    "name": "ipython",
    "version": 3
   },
   "file_extension": ".py",
   "mimetype": "text/x-python",
   "name": "python",
   "nbconvert_exporter": "python",
   "pygments_lexer": "ipython3",
   "version": "3.7.1"
  }
 },
 "nbformat": 4,
 "nbformat_minor": 2
}
