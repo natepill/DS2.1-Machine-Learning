{
 "cells": [
  {
   "cell_type": "code",
   "execution_count": null,
   "metadata": {},
   "outputs": [],
   "source": [
    "# https://www.youtube.com/watch?v=JcI5Vnw0b2c&list=PLQVvvaa0QuDfKTOs3Keq_kaG2P55YRn5v&index=2"
   ]
  },
  {
   "cell_type": "code",
   "execution_count": 10,
   "metadata": {},
   "outputs": [],
   "source": [
    "import pandas as pd\n",
    "import numpy as np\n",
    "import matplotlib.pyplot as plt\n",
    "from sklearn.linear_model import LinearRegression"
   ]
  },
  {
   "cell_type": "code",
   "execution_count": 3,
   "metadata": {},
   "outputs": [],
   "source": [
    "X = np.array([3.3,4.4,5.5,6.71,6.93,4.168,9.779,6.182,7.59,2.167,\n",
    "                         7.042,10.791,5.313,7.997,5.654,9.27,3.1])\n",
    "\n",
    "\n",
    "Y = np.array([1.7,2.76,2.09,3.19,1.694,1.573,3.366,2.596,2.53,1.221,\n",
    "                         2.827,3.465,1.65,2.904,2.42,2.94,1.3])"
   ]
  },
  {
   "cell_type": "code",
   "execution_count": 4,
   "metadata": {},
   "outputs": [
    {
     "data": {
      "text/plain": [
       "<matplotlib.collections.PathCollection at 0x1156ef940>"
      ]
     },
     "execution_count": 4,
     "metadata": {},
     "output_type": "execute_result"
    },
    {
     "data": {
      "image/png": "[encoded data removed]",
      "text/plain": [
       "<Figure size 432x288 with 1 Axes>"
      ]
     },
     "metadata": {
      "needs_background": "light"
     },
     "output_type": "display_data"
    }
   ],
   "source": [
    "plt.scatter(X, Y)"
   ]
  },
  {
   "cell_type": "markdown",
   "metadata": {},
   "source": [
    "### The best line is one where the distance of predicted point to the actual points is the least for all of the points together.\n",
    "### Yprediction = weight x Running Distance (feature) + 0.3\n",
    "### e.g. (Yprediction = 0.7 x Running Distance + 0.3)\n",
    "### 0.3 = offset value that all numbers are offset by. With the water example, this might represent the amount of water that everyone drinks whether they run or not.\n",
    "### 0.7 = this is a weight, this represents the contribution of this feature to the overal prediction\n",
    "### We calculate the slope element by element where Running Distance in the above example represents a given element.¶"
   ]
  },
  {
   "cell_type": "code",
   "execution_count": 5,
   "metadata": {},
   "outputs": [
    {
     "data": {
      "text/plain": [
       "[<matplotlib.lines.Line2D at 0x117e8e9e8>]"
      ]
     },
     "execution_count": 5,
     "metadata": {},
     "output_type": "execute_result"
    },
    {
     "data": {
      "image/png": "[encoded data removed]",
      "text/plain": [
       "<Figure size 432x288 with 1 Axes>"
      ]
     },
     "metadata": {
      "needs_background": "light"
     },
     "output_type": "display_data"
    }
   ],
   "source": [
    "# multiply each number in X list by 0.7 and add 0.3 to get our attempt at a line\n",
    "\n",
    "predicted_y_values = list(map(lambda x: 0.7 * x + 0.3, X))\n",
    "plt.scatter(X,Y)\n",
    "plt.plot(X, predicted_y_values)\n"
   ]
  },
  {
   "cell_type": "code",
   "execution_count": 8,
   "metadata": {},
   "outputs": [
    {
     "name": "stdout",
     "output_type": "stream",
     "text": [
      "[[0.25163494]]\n",
      "[0.79880123]\n"
     ]
    }
   ],
   "source": [
    "lr_reg = LinearRegression() # instantiate LinearRegression class\n",
    "lr_reg.fit(X.reshape(-1, 1), Y.reshape(-1, 1)) # obtains the best weight and intercept\n",
    "\n",
    "print(lr_reg.coef_)\n",
    "print(lr_reg.intercept_)"
   ]
  },
  {
   "cell_type": "code",
   "execution_count": 12,
   "metadata": {},
   "outputs": [],
   "source": [
    "data = pd.read_csv('../data/Advertising.csv')"
   ]
  },
  {
   "cell_type": "code",
   "execution_count": 17,
   "metadata": {},
   "outputs": [
    {
     "data": {
      "text/html": [
       "<div>\n",
       "<style scoped>\n",
       "    .dataframe tbody tr th:only-of-type {\n",
       "        vertical-align: middle;\n",
       "    }\n",
       "\n",
       "    .dataframe tbody tr th {\n",
       "        vertical-align: top;\n",
       "    }\n",
       "\n",
       "    .dataframe thead th {\n",
       "        text-align: right;\n",
       "    }\n",
       "</style>\n",
       "<table border=\"1\" class=\"dataframe\">\n",
       "  <thead>\n",
       "    <tr style=\"text-align: right;\">\n",
       "      <th></th>\n",
       "      <th>TV</th>\n",
       "      <th>radio</th>\n",
       "      <th>newspaper</th>\n",
       "    </tr>\n",
       "  </thead>\n",
       "  <tbody>\n",
       "    <tr>\n",
       "      <th>0</th>\n",
       "      <td>230.1</td>\n",
       "      <td>37.8</td>\n",
       "      <td>69.2</td>\n",
       "    </tr>\n",
       "    <tr>\n",
       "      <th>1</th>\n",
       "      <td>44.5</td>\n",
       "      <td>39.3</td>\n",
       "      <td>45.1</td>\n",
       "    </tr>\n",
       "    <tr>\n",
       "      <th>2</th>\n",
       "      <td>17.2</td>\n",
       "      <td>45.9</td>\n",
       "      <td>69.3</td>\n",
       "    </tr>\n",
       "    <tr>\n",
       "      <th>3</th>\n",
       "      <td>151.5</td>\n",
       "      <td>41.3</td>\n",
       "      <td>58.5</td>\n",
       "    </tr>\n",
       "    <tr>\n",
       "      <th>4</th>\n",
       "      <td>180.8</td>\n",
       "      <td>10.8</td>\n",
       "      <td>58.4</td>\n",
       "    </tr>\n",
       "  </tbody>\n",
       "</table>\n",
       "</div>"
      ],
      "text/plain": [
       "      TV  radio  newspaper\n",
       "0  230.1   37.8       69.2\n",
       "1   44.5   39.3       45.1\n",
       "2   17.2   45.9       69.3\n",
       "3  151.5   41.3       58.5\n",
       "4  180.8   10.8       58.4"
      ]
     },
     "execution_count": 17,
     "metadata": {},
     "output_type": "execute_result"
    }
   ],
   "source": [
    "features = ['TV', 'radio', 'newspaper']\n",
    "X = data[features][:150]\n",
    "Y = data.sales[:150]\n",
    "\n",
    "X.head()"
   ]
  },
  {
   "cell_type": "code",
   "execution_count": 21,
   "metadata": {},
   "outputs": [
    {
     "name": "stdout",
     "output_type": "stream",
     "text": [
      "[20.54887629 12.12935888 11.99986446 17.49944016 13.3887405  12.13216558\n",
      " 11.60109776 12.18958782  3.81042349 12.85847736  7.14613745 17.43346317\n",
      " 10.37156277  8.96966628 18.477747   20.72216916 12.6419954  23.30265766\n",
      "  9.94512274 14.22648061 18.20381911 15.07228699  6.44152069 16.76400286\n",
      "  8.1993546  15.98850884 15.00043373 17.28724677 19.56744655  9.16966484\n",
      " 21.82759541 11.4127615   7.82599525 19.11122907  7.76920358 17.41850177\n",
      " 23.44813157 15.36523981  9.81043565 20.48436445 16.51546091 17.30425\n",
      " 21.8106091  14.22849291  8.77299852 15.26378443  8.97693237 21.74634654\n",
      " 16.48113213  8.22766528 12.92964702  9.47088161 20.64823258 19.84253292\n",
      " 20.53645271 21.18259554  8.37089976 12.86260303 21.80916442 18.22765735\n",
      "  5.87411983 22.91728924 17.02755557 13.17090019 16.85205749  7.94488548\n",
      "  8.93352579 12.17159781 19.12031074 21.08027818 17.83914144 10.71894901\n",
      " 10.20007209 10.09329233 17.46755769 11.56171783  4.58112561 13.80144063\n",
      "  8.65036563  9.83485829 11.39349461 14.98635808 10.17591814 14.20163707\n",
      " 20.75398043 15.32878957 11.54157787 15.44928965 11.66519728 16.71905631\n",
      " 10.21050699  4.59757887 19.20667263 21.28821795 10.58134581 16.31655093\n",
      " 12.93847823 15.46781271 24.18502916 16.82298568 14.18644726 23.35061869\n",
      " 17.98650068 14.9308205  20.3894479  17.77719329  6.14236689  7.30001394\n",
      "  3.68153142 19.86606838 15.03858638 21.19458991 14.05528278 16.57259351\n",
      " 15.07762616 12.7831917  12.10930919  6.74376151 15.46609719  6.7892093\n",
      " 14.42827028  7.74720808 13.96774904 15.02375455 19.52403341  9.21505074\n",
      " 10.32476645  6.78627121 22.19610031  7.92970696 10.17579292 15.95568535\n",
      "  8.315788   19.32487087 11.61744915 13.74478017 11.23729471 21.01000757\n",
      "  9.68226949 19.61674407  9.520334   18.39725628 19.31389086  8.9233409\n",
      " 10.159614    9.95313081 15.61579941 23.2147507  12.05036142  9.74403616]\n"
     ]
    }
   ],
   "source": [
    "# lr_reg.fit(X, Y)\n",
    "# print(lr_reg.intercept_)\n",
    "# print(lr_reg.coef_)\n",
    "\n",
    "\n",
    "\n",
    "# pass TV, radio and newspaper values for the last 50 values\n",
    "print(lr_reg.predict(data[features][:-50]))\n",
    "# we end up with the predictions for the last 50 values in the dataframe"
   ]
  },
  {
   "cell_type": "markdown",
   "metadata": {},
   "source": [
    "## Mean square error: 1/N * sum(Ytrue = Yprediction)^2\n",
    "## R ^2 square 0 <= N <= 1 (numbers that are closer to 1 are better)"
   ]
  },
  {
   "cell_type": "code",
   "execution_count": null,
   "metadata": {},
   "outputs": [],
   "source": []
  }
 ],
 "metadata": {
  "kernelspec": {
   "display_name": "Python 3",
   "language": "python",
   "name": "python3"
  },
  "language_info": {
   "codemirror_mode": {
    "name": "ipython",
    "version": 3
   },
   "file_extension": ".py",
   "mimetype": "text/x-python",
   "name": "python",
   "nbconvert_exporter": "python",
   "pygments_lexer": "ipython3",
   "version": "3.7.1"
  }
 },
 "nbformat": 4,
 "nbformat_minor": 2
}
